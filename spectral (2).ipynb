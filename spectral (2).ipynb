{
  "nbformat": 4,
  "nbformat_minor": 0,
  "metadata": {
    "colab": {
      "provenance": []
    },
    "kernelspec": {
      "name": "python3",
      "display_name": "Python 3"
    },
    "language_info": {
      "name": "python"
    }
  },
  "cells": [
    {
      "cell_type": "code",
      "execution_count": null,
      "metadata": {
        "id": "CGv4P6lWizx2"
      },
      "outputs": [],
      "source": [
        "k=2\n",
        "import pandas as pd\n",
        "import numpy as np\n",
        "import seaborn as sns\n",
        "import matplotlib.pyplot as plt\n",
        "import random\n",
        "from numpy import linalg as LA\n",
        "from numpy import save\n",
        "from numpy import load"
      ]
    },
    {
      "cell_type": "markdown",
      "source": [
        "connect drive"
      ],
      "metadata": {
        "id": "l7lpkmOcxfla"
      }
    },
    {
      "cell_type": "code",
      "source": [
        "from google.colab import drive\n",
        "drive.mount('/content/drive')"
      ],
      "metadata": {
        "colab": {
          "base_uri": "https://localhost:8080/"
        },
        "id": "oZRPTPWGi4ss",
        "outputId": "02f3fbef-18b3-494f-a037-5a16d3f07086"
      },
      "execution_count": null,
      "outputs": [
        {
          "output_type": "stream",
          "name": "stdout",
          "text": [
            "Drive already mounted at /content/drive; to attempt to forcibly remount, call drive.mount(\"/content/drive\", force_remount=True).\n"
          ]
        }
      ]
    },
    {
      "cell_type": "markdown",
      "source": [
        "**fetching data**"
      ],
      "metadata": {
        "id": "AVYh8s8d8dYT"
      }
    },
    {
      "cell_type": "code",
      "source": [
        "data=pd.read_csv(\"/content/drive/MyDrive/Colab Notebooks/ml/Assignment5Dataset.csv\")\n",
        "data.head()\n",
        "x_old = data[[\"X1\"]].values\n",
        "y_old=data[[\"X2\"]].values\n",
        "\n",
        "print(x_old[0],y_old[0])\n",
        "data_size=1500\n",
        "\n",
        "for p in range(0,data_size):\n",
        "  plt.scatter(x_old[p],y_old[p],c=\"red\")\n",
        "\n",
        "plt.show"
      ],
      "metadata": {
        "colab": {
          "base_uri": "https://localhost:8080/",
          "height": 300
        },
        "id": "8pf8DtRGjB6D",
        "outputId": "5fbed92a-a336-4d9f-a614-feab298f7a9b"
      },
      "execution_count": null,
      "outputs": [
        {
          "output_type": "stream",
          "name": "stdout",
          "text": [
            "[0.67436247] [-0.44462513]\n"
          ]
        },
        {
          "output_type": "execute_result",
          "data": {
            "text/plain": [
              "<function matplotlib.pyplot.show(*args, **kw)>"
            ]
          },
          "metadata": {},
          "execution_count": 4
        },
        {
          "output_type": "display_data",
          "data": {
            "text/plain": [
              "<Figure size 432x288 with 1 Axes>"
            ],
            "image/png": "[encoded data removed]"
          },
          "metadata": {
            "needs_background": "light"
          }
        }
      ]
    },
    {
      "cell_type": "markdown",
      "source": [
        "**euclidian distance**"
      ],
      "metadata": {
        "id": "krohXEXL8Pwh"
      }
    },
    {
      "cell_type": "code",
      "source": [
        "from numpy import save\n",
        "from numpy import load"
      ],
      "metadata": {
        "id": "Rh-bCkMDvFBP"
      },
      "execution_count": null,
      "outputs": []
    },
    {
      "cell_type": "code",
      "source": [
        "data=load('/content/drive/MyDrive/iisc/random_house_data.npy')"
      ],
      "metadata": {
        "id": "9jxLk3yluoSh"
      },
      "execution_count": null,
      "outputs": []
    },
    {
      "cell_type": "code",
      "source": [
        "data=pd.DataFrame(data)\n",
        "print(data)\n",
        "data_size=len(data)"
      ],
      "metadata": {
        "colab": {
          "base_uri": "https://localhost:8080/"
        },
        "id": "4ahQ2WhJvXs7",
        "outputId": "0456d52c-fb7a-435f-852f-595d810fbc60"
      },
      "execution_count": null,
      "outputs": [
        {
          "output_type": "stream",
          "name": "stdout",
          "text": [
            "             0         1\n",
            "0     2.541501  0.057059\n",
            "1     1.372917 -1.742211\n",
            "2     1.142263 -1.738709\n",
            "3     0.513272 -0.343188\n",
            "4    -1.146951 -0.767431\n",
            "...        ...       ...\n",
            "3995  0.065532 -0.753915\n",
            "3996  1.854860 -0.156290\n",
            "3997  1.356891  0.951874\n",
            "3998  0.480375 -0.432025\n",
            "3999  1.500710  0.912678\n",
            "\n",
            "[4000 rows x 2 columns]\n"
          ]
        }
      ]
    },
    {
      "cell_type": "code",
      "source": [
        "def distance(p1,p2):\n",
        "\n",
        "\n",
        "  return LA.norm(p1-p2)"
      ],
      "metadata": {
        "id": "jFwxoLipjWqn"
      },
      "execution_count": null,
      "outputs": []
    },
    {
      "cell_type": "code",
      "source": [
        "data.loc[[0]]"
      ],
      "metadata": {
        "colab": {
          "base_uri": "https://localhost:8080/",
          "height": 81
        },
        "id": "wmD_L_Ggw7r4",
        "outputId": "86f8a77c-7813-4a44-a2bd-1f46df83d3f4"
      },
      "execution_count": null,
      "outputs": [
        {
          "output_type": "execute_result",
          "data": {
            "text/plain": [
              "          0         1\n",
              "0  2.541501  0.057059"
            ],
            "text/html": [
              "\n",
              "  <div id=\"df-ba58b108-b023-4485-8b73-092aa9324feb\" class=\"colab-df-container\">\n",
              "    <div>\n",
              "<style scoped>\n",
              "    .dataframe tbody tr th:only-of-type {\n",
              "        vertical-align: middle;\n",
              "    }\n",
              "\n",
              "    .dataframe tbody tr th {\n",
              "        vertical-align: top;\n",
              "    }\n",
              "\n",
              "    .dataframe thead th {\n",
              "        text-align: right;\n",
              "    }\n",
              "</style>\n",
              "<table border=\"1\" class=\"dataframe\">\n",
              "  <thead>\n",
              "    <tr style=\"text-align: right;\">\n",
              "      <th></th>\n",
              "      <th>0</th>\n",
              "      <th>1</th>\n",
              "    </tr>\n",
              "  </thead>\n",
              "  <tbody>\n",
              "    <tr>\n",
              "      <th>0</th>\n",
              "      <td>2.541501</td>\n",
              "      <td>0.057059</td>\n",
              "    </tr>\n",
              "  </tbody>\n",
              "</table>\n",
              "</div>\n",
              "    <div class=\"colab-df-buttons\">\n",
              "\n",
              "  <div class=\"colab-df-container\">\n",
              "    <button class=\"colab-df-convert\" onclick=\"convertToInteractive('df-ba58b108-b023-4485-8b73-092aa9324feb')\"\n",
              "            title=\"Convert this dataframe to an interactive table.\"\n",
              "            style=\"display:none;\">\n",
              "\n",
              "  <svg xmlns=\"http://www.w3.org/2000/svg\" height=\"24px\" viewBox=\"0 -960 960 960\">\n",
              "    <path d=\"M120-120v-720h720v720H120Zm60-500h600v-160H180v160Zm220 220h160v-160H400v160Zm0 220h160v-160H400v160ZM180-400h160v-160H180v160Zm440 0h160v-160H620v160ZM180-180h160v-160H180v160Zm440 0h160v-160H620v160Z\"/>\n",
              "  </svg>\n",
              "    </button>\n",
              "\n",
              "  <style>\n",
              "    .colab-df-container {\n",
              "      display:flex;\n",
              "      gap: 12px;\n",
              "    }\n",
              "\n",
              "    .colab-df-convert {\n",
              "      background-color: #E8F0FE;\n",
              "      border: none;\n",
              "      border-radius: 50%;\n",
              "      cursor: pointer;\n",
              "      display: none;\n",
              "      fill: #1967D2;\n",
              "      height: 32px;\n",
              "      padding: 0 0 0 0;\n",
              "      width: 32px;\n",
              "    }\n",
              "\n",
              "    .colab-df-convert:hover {\n",
              "      background-color: #E2EBFA;\n",
              "      box-shadow: 0px 1px 2px rgba(60, 64, 67, 0.3), 0px 1px 3px 1px rgba(60, 64, 67, 0.15);\n",
              "      fill: #174EA6;\n",
              "    }\n",
              "\n",
              "    .colab-df-buttons div {\n",
              "      margin-bottom: 4px;\n",
              "    }\n",
              "\n",
              "    [theme=dark] .colab-df-convert {\n",
              "      background-color: #3B4455;\n",
              "      fill: #D2E3FC;\n",
              "    }\n",
              "\n",
              "    [theme=dark] .colab-df-convert:hover {\n",
              "      background-color: #434B5C;\n",
              "      box-shadow: 0px 1px 3px 1px rgba(0, 0, 0, 0.15);\n",
              "      filter: drop-shadow(0px 1px 2px rgba(0, 0, 0, 0.3));\n",
              "      fill: #FFFFFF;\n",
              "    }\n",
              "  </style>\n",
              "\n",
              "    <script>\n",
              "      const buttonEl =\n",
              "        document.querySelector('#df-ba58b108-b023-4485-8b73-092aa9324feb button.colab-df-convert');\n",
              "      buttonEl.style.display =\n",
              "        google.colab.kernel.accessAllowed ? 'block' : 'none';\n",
              "\n",
              "      async function convertToInteractive(key) {\n",
              "        const element = document.querySelector('#df-ba58b108-b023-4485-8b73-092aa9324feb');\n",
              "        const dataTable =\n",
              "          await google.colab.kernel.invokeFunction('convertToInteractive',\n",
              "                                                    [key], {});\n",
              "        if (!dataTable) return;\n",
              "\n",
              "        const docLinkHtml = 'Like what you see? Visit the ' +\n",
              "          '<a target=\"_blank\" href=https://colab.research.google.com/notebooks/data_table.ipynb>data table notebook</a>'\n",
              "          + ' to learn more about interactive tables.';\n",
              "        element.innerHTML = '';\n",
              "        dataTable['output_type'] = 'display_data';\n",
              "        await google.colab.output.renderOutput(dataTable, element);\n",
              "        const docLink = document.createElement('div');\n",
              "        docLink.innerHTML = docLinkHtml;\n",
              "        element.appendChild(docLink);\n",
              "      }\n",
              "    </script>\n",
              "  </div>\n",
              "\n",
              "    </div>\n",
              "  </div>\n"
            ]
          },
          "metadata": {},
          "execution_count": 16
        }
      ]
    },
    {
      "cell_type": "markdown",
      "source": [
        "**distance of each point from each point is stored in** euclid matrix"
      ],
      "metadata": {
        "id": "laoGpOHbx3IA"
      }
    },
    {
      "cell_type": "code",
      "source": [
        "euclid= np.zeros([data_size,data_size])\n",
        "points =data.values\n",
        "for i in range(data_size):\n",
        "    print(i)\n",
        "    for j in range(i + 1, data_size):\n",
        "        point1 = points[i]\n",
        "        point2 = points[j]\n",
        "        dis = np.linalg.norm(point1 - point2)  # Euclidean distance calculation on GPU\n",
        "        euclid[i][j] = dis\n",
        "        euclid[j][i] = dis"
      ],
      "metadata": {
        "id": "4gokjjSykaGa"
      },
      "execution_count": null,
      "outputs": []
    },
    {
      "cell_type": "code",
      "source": [
        "save('/content/drive/MyDrive/iisc/house_distance.npy', euclid)"
      ],
      "metadata": {
        "id": "7PANtxIAuNcX"
      },
      "execution_count": null,
      "outputs": []
    },
    {
      "cell_type": "code",
      "source": [
        "distance=load('/content/drive/MyDrive/iisc/house_distance.npy')"
      ],
      "metadata": {
        "id": "MDbyVtw7yJhb"
      },
      "execution_count": null,
      "outputs": []
    },
    {
      "cell_type": "markdown",
      "source": [
        "**creating weight** by epsilon neighbour"
      ],
      "metadata": {
        "id": "OaqW-Y4M76oH"
      }
    },
    {
      "cell_type": "code",
      "source": [
        "\n",
        "w= np.zeros([data_size,data_size], dtype = int)\n",
        "min_distance=0.09\n",
        "\n",
        "\n",
        "for i in range(0,data_size):\n",
        "  for j in range(i+1,data_size):\n",
        "    if(distance[i][j]<min_distance):\n",
        "      w[i][j]=1\n",
        "      w[j][i]=1\n"
      ],
      "metadata": {
        "id": "EyDnE6AiUSkp"
      },
      "execution_count": null,
      "outputs": []
    },
    {
      "cell_type": "markdown",
      "source": [
        "**Laplacian matrix creation**"
      ],
      "metadata": {
        "id": "yHSeyr2g8stf"
      }
    },
    {
      "cell_type": "code",
      "source": [
        "\n",
        "D= np.zeros([data_size, data_size], dtype = int)\n",
        "for i in range(0,data_size):\n",
        "  tmp=0\n",
        "  for j in range(0,data_size):\n",
        "    tmp+=w[i][j]\n",
        "  D[i][i]=tmp\n",
        "L=D-w\n",
        "print(L)\n",
        "\n"
      ],
      "metadata": {
        "colab": {
          "base_uri": "https://localhost:8080/"
        },
        "id": "KhkYrS836K0M",
        "outputId": "6513db7d-85f1-4776-e28a-7167ffc93bb1"
      },
      "execution_count": null,
      "outputs": [
        {
          "output_type": "stream",
          "name": "stdout",
          "text": [
            "[[13  0  0 ...  0  0  0]\n",
            " [ 0 10  0 ...  0  0  0]\n",
            " [ 0  0  7 ...  0  0  0]\n",
            " ...\n",
            " [ 0  0  0 ... 14  0  0]\n",
            " [ 0  0  0 ...  0  2  0]\n",
            " [ 0  0  0 ...  0  0  6]]\n"
          ]
        }
      ]
    },
    {
      "cell_type": "markdown",
      "source": [
        "**eign vector matrix of Laplacian creation**"
      ],
      "metadata": {
        "id": "g7DIeen7yh0g"
      }
    },
    {
      "cell_type": "code",
      "source": [
        "k=4"
      ],
      "metadata": {
        "id": "gaoXI_hCzIMu"
      },
      "execution_count": null,
      "outputs": []
    },
    {
      "cell_type": "code",
      "source": [
        "eignval,eignvector = np.linalg.eig(L)\n",
        "df1 = pd.DataFrame(eignvector)\n",
        "\n",
        "df1=df1.transpose()\n",
        "df1.insert(loc=0,column='eignval',value=eignval)\n",
        "\n",
        "df1.sort_values(by=[\"eignval\"], inplace = True)\n",
        "\n",
        "\n"
      ],
      "metadata": {
        "id": "mkQJUNst83_h"
      },
      "execution_count": null,
      "outputs": []
    },
    {
      "cell_type": "code",
      "source": [
        "\n",
        "Q=df1.iloc[0:k,1:].transpose()"
      ],
      "metadata": {
        "id": "U7LkNKg4zNhp"
      },
      "execution_count": null,
      "outputs": []
    },
    {
      "cell_type": "code",
      "source": [
        "Q=np.real(Q)\n",
        "print(Q)"
      ],
      "metadata": {
        "colab": {
          "base_uri": "https://localhost:8080/"
        },
        "id": "LYeDzhLYyqIR",
        "outputId": "1f4d221b-ed0d-45ce-9cf6-4f02528b7776"
      },
      "execution_count": null,
      "outputs": [
        {
          "output_type": "stream",
          "name": "stdout",
          "text": [
            "[[ 0.00138303 -0.00383395 -0.00130991  0.00061327]\n",
            " [-0.00306304  0.00283975 -0.00509844  0.01239156]\n",
            " [-0.00306304  0.00283975 -0.00509844  0.01239156]\n",
            " ...\n",
            " [ 0.00858191  0.00769179  0.01013607  0.01112231]\n",
            " [ 0.00138303 -0.00383395 -0.00130991  0.00061327]\n",
            " [ 0.00858191  0.00769179  0.01013607  0.01112231]]\n"
          ]
        }
      ]
    },
    {
      "cell_type": "markdown",
      "source": [
        "plotting Q matrix data point row wise"
      ],
      "metadata": {
        "id": "VeqtjMxTy39e"
      }
    },
    {
      "cell_type": "code",
      "source": [
        "from sklearn.cluster import KMeans\n",
        "model= KMeans(n_clusters=4,random_state=10)\n",
        "cluster_kmeans=model.fit_predict(Q)\n"
      ],
      "metadata": {
        "colab": {
          "base_uri": "https://localhost:8080/"
        },
        "id": "JB6Bt9ApzCWr",
        "outputId": "50ca0dc2-3a46-48c1-ec7c-36a41f780958"
      },
      "execution_count": null,
      "outputs": [
        {
          "output_type": "stream",
          "name": "stderr",
          "text": [
            "/usr/local/lib/python3.10/dist-packages/sklearn/cluster/_kmeans.py:870: FutureWarning: The default value of `n_init` will change from 10 to 'auto' in 1.4. Set the value of `n_init` explicitly to suppress the warning\n",
            "  warnings.warn(\n"
          ]
        }
      ]
    },
    {
      "cell_type": "code",
      "source": [
        "labels = model.labels_\n",
        "print(labels.shape)"
      ],
      "metadata": {
        "colab": {
          "base_uri": "https://localhost:8080/"
        },
        "id": "l-O2RfHEzY-R",
        "outputId": "362a42cb-9f11-4a89-8243-332a0f719888"
      },
      "execution_count": null,
      "outputs": [
        {
          "output_type": "stream",
          "name": "stdout",
          "text": [
            "(4000,)\n"
          ]
        }
      ]
    },
    {
      "cell_type": "code",
      "source": [
        "\n",
        "\n",
        "# Get cluster centers\n",
        "\n",
        "\n",
        "# Plot the data points with different colors for each cluster\n",
        "plt.figure(figsize=(8, 6))\n",
        "\n",
        "# Define colors for plotting\n",
        "colors = ['b', 'g', 'r', 'c', 'm', 'y']\n",
        "k=4\n",
        "for i in range(k):\n",
        "    cluster_points = data[labels == i]\n",
        "    plt.scatter(cluster_points.iloc[:, 0], cluster_points.iloc[:, 1], c=colors[i], label=f'K-means Cluster {i + 1}')\n",
        "\n",
        "plt.xlabel('Feature 1')\n",
        "plt.ylabel('Feature 2')\n",
        "plt.title('Original Data with K-means Clusters (from Spectral Clustering)')\n",
        "plt.legend()\n",
        "plt.show()\n",
        "\n",
        "\n",
        "\n",
        "\n",
        "\n"
      ],
      "metadata": {
        "colab": {
          "base_uri": "https://localhost:8080/",
          "height": 564
        },
        "id": "fvOgj6DQy0K1",
        "outputId": "733058c5-4303-4465-cd44-027e39c0ff39"
      },
      "execution_count": null,
      "outputs": [
        {
          "output_type": "display_data",
          "data": {
            "text/plain": [
              "<Figure size 800x600 with 1 Axes>"
            ],
            "image/png": "[encoded data removed]"
          },
          "metadata": {}
        }
      ]
    },
    {
      "cell_type": "code",
      "source": [
        "x = Q[[0]].values\n",
        "y=Q[[1]].values\n",
        "\n",
        "for p in range(0,data_size):\n",
        "  plt.scatter(x[p],y[p],c=\"red\")\n",
        "\n",
        "plt.show"
      ],
      "metadata": {
        "colab": {
          "base_uri": "https://localhost:8080/",
          "height": 405
        },
        "id": "fR0ikqQ8MKvh",
        "outputId": "2bb99471-ee7e-4536-8c2c-29230ec90ade"
      },
      "execution_count": null,
      "outputs": [
        {
          "output_type": "error",
          "ename": "KeyError",
          "evalue": "ignored",
          "traceback": [
            "\u001b[0;31m---------------------------------------------------------------------------\u001b[0m",
            "\u001b[0;31mKeyError\u001b[0m                                  Traceback (most recent call last)",
            "\u001b[0;32m<ipython-input-27-06ad838d9241>\u001b[0m in \u001b[0;36m<cell line: 1>\u001b[0;34m()\u001b[0m\n\u001b[0;32m----> 1\u001b[0;31m \u001b[0mx\u001b[0m \u001b[0;34m=\u001b[0m \u001b[0mQ\u001b[0m\u001b[0;34m[\u001b[0m\u001b[0;34m[\u001b[0m\u001b[0;36m0\u001b[0m\u001b[0;34m]\u001b[0m\u001b[0;34m]\u001b[0m\u001b[0;34m.\u001b[0m\u001b[0mvalues\u001b[0m\u001b[0;34m\u001b[0m\u001b[0;34m\u001b[0m\u001b[0m\n\u001b[0m\u001b[1;32m      2\u001b[0m \u001b[0my\u001b[0m\u001b[0;34m=\u001b[0m\u001b[0mQ\u001b[0m\u001b[0;34m[\u001b[0m\u001b[0;34m[\u001b[0m\u001b[0;36m1\u001b[0m\u001b[0;34m]\u001b[0m\u001b[0;34m]\u001b[0m\u001b[0;34m.\u001b[0m\u001b[0mvalues\u001b[0m\u001b[0;34m\u001b[0m\u001b[0;34m\u001b[0m\u001b[0m\n\u001b[1;32m      3\u001b[0m \u001b[0;34m\u001b[0m\u001b[0m\n\u001b[1;32m      4\u001b[0m \u001b[0;32mfor\u001b[0m \u001b[0mp\u001b[0m \u001b[0;32min\u001b[0m \u001b[0mrange\u001b[0m\u001b[0;34m(\u001b[0m\u001b[0;36m0\u001b[0m\u001b[0;34m,\u001b[0m\u001b[0mdata_size\u001b[0m\u001b[0;34m)\u001b[0m\u001b[0;34m:\u001b[0m\u001b[0;34m\u001b[0m\u001b[0;34m\u001b[0m\u001b[0m\n\u001b[1;32m      5\u001b[0m   \u001b[0mplt\u001b[0m\u001b[0;34m.\u001b[0m\u001b[0mscatter\u001b[0m\u001b[0;34m(\u001b[0m\u001b[0mx\u001b[0m\u001b[0;34m[\u001b[0m\u001b[0mp\u001b[0m\u001b[0;34m]\u001b[0m\u001b[0;34m,\u001b[0m\u001b[0my\u001b[0m\u001b[0;34m[\u001b[0m\u001b[0mp\u001b[0m\u001b[0;34m]\u001b[0m\u001b[0;34m,\u001b[0m\u001b[0mc\u001b[0m\u001b[0;34m=\u001b[0m\u001b[0;34m\"red\"\u001b[0m\u001b[0;34m)\u001b[0m\u001b[0;34m\u001b[0m\u001b[0;34m\u001b[0m\u001b[0m\n",
            "\u001b[0;32m/usr/local/lib/python3.10/dist-packages/pandas/core/frame.py\u001b[0m in \u001b[0;36m__getitem__\u001b[0;34m(self, key)\u001b[0m\n\u001b[1;32m   3811\u001b[0m             \u001b[0;32mif\u001b[0m \u001b[0mis_iterator\u001b[0m\u001b[0;34m(\u001b[0m\u001b[0mkey\u001b[0m\u001b[0;34m)\u001b[0m\u001b[0;34m:\u001b[0m\u001b[0;34m\u001b[0m\u001b[0;34m\u001b[0m\u001b[0m\n\u001b[1;32m   3812\u001b[0m                 \u001b[0mkey\u001b[0m \u001b[0;34m=\u001b[0m \u001b[0mlist\u001b[0m\u001b[0;34m(\u001b[0m\u001b[0mkey\u001b[0m\u001b[0;34m)\u001b[0m\u001b[0;34m\u001b[0m\u001b[0;34m\u001b[0m\u001b[0m\n\u001b[0;32m-> 3813\u001b[0;31m             \u001b[0mindexer\u001b[0m \u001b[0;34m=\u001b[0m \u001b[0mself\u001b[0m\u001b[0;34m.\u001b[0m\u001b[0mcolumns\u001b[0m\u001b[0;34m.\u001b[0m\u001b[0m_get_indexer_strict\u001b[0m\u001b[0;34m(\u001b[0m\u001b[0mkey\u001b[0m\u001b[0;34m,\u001b[0m \u001b[0;34m\"columns\"\u001b[0m\u001b[0;34m)\u001b[0m\u001b[0;34m[\u001b[0m\u001b[0;36m1\u001b[0m\u001b[0;34m]\u001b[0m\u001b[0;34m\u001b[0m\u001b[0;34m\u001b[0m\u001b[0m\n\u001b[0m\u001b[1;32m   3814\u001b[0m \u001b[0;34m\u001b[0m\u001b[0m\n\u001b[1;32m   3815\u001b[0m         \u001b[0;31m# take() does not accept boolean indexers\u001b[0m\u001b[0;34m\u001b[0m\u001b[0;34m\u001b[0m\u001b[0m\n",
            "\u001b[0;32m/usr/local/lib/python3.10/dist-packages/pandas/core/indexes/base.py\u001b[0m in \u001b[0;36m_get_indexer_strict\u001b[0;34m(self, key, axis_name)\u001b[0m\n\u001b[1;32m   6068\u001b[0m             \u001b[0mkeyarr\u001b[0m\u001b[0;34m,\u001b[0m \u001b[0mindexer\u001b[0m\u001b[0;34m,\u001b[0m \u001b[0mnew_indexer\u001b[0m \u001b[0;34m=\u001b[0m \u001b[0mself\u001b[0m\u001b[0;34m.\u001b[0m\u001b[0m_reindex_non_unique\u001b[0m\u001b[0;34m(\u001b[0m\u001b[0mkeyarr\u001b[0m\u001b[0;34m)\u001b[0m\u001b[0;34m\u001b[0m\u001b[0;34m\u001b[0m\u001b[0m\n\u001b[1;32m   6069\u001b[0m \u001b[0;34m\u001b[0m\u001b[0m\n\u001b[0;32m-> 6070\u001b[0;31m         \u001b[0mself\u001b[0m\u001b[0;34m.\u001b[0m\u001b[0m_raise_if_missing\u001b[0m\u001b[0;34m(\u001b[0m\u001b[0mkeyarr\u001b[0m\u001b[0;34m,\u001b[0m \u001b[0mindexer\u001b[0m\u001b[0;34m,\u001b[0m \u001b[0maxis_name\u001b[0m\u001b[0;34m)\u001b[0m\u001b[0;34m\u001b[0m\u001b[0;34m\u001b[0m\u001b[0m\n\u001b[0m\u001b[1;32m   6071\u001b[0m \u001b[0;34m\u001b[0m\u001b[0m\n\u001b[1;32m   6072\u001b[0m         \u001b[0mkeyarr\u001b[0m \u001b[0;34m=\u001b[0m \u001b[0mself\u001b[0m\u001b[0;34m.\u001b[0m\u001b[0mtake\u001b[0m\u001b[0;34m(\u001b[0m\u001b[0mindexer\u001b[0m\u001b[0;34m)\u001b[0m\u001b[0;34m\u001b[0m\u001b[0;34m\u001b[0m\u001b[0m\n",
            "\u001b[0;32m/usr/local/lib/python3.10/dist-packages/pandas/core/indexes/base.py\u001b[0m in \u001b[0;36m_raise_if_missing\u001b[0;34m(self, key, indexer, axis_name)\u001b[0m\n\u001b[1;32m   6128\u001b[0m                 \u001b[0;32mif\u001b[0m \u001b[0muse_interval_msg\u001b[0m\u001b[0;34m:\u001b[0m\u001b[0;34m\u001b[0m\u001b[0;34m\u001b[0m\u001b[0m\n\u001b[1;32m   6129\u001b[0m                     \u001b[0mkey\u001b[0m \u001b[0;34m=\u001b[0m \u001b[0mlist\u001b[0m\u001b[0;34m(\u001b[0m\u001b[0mkey\u001b[0m\u001b[0;34m)\u001b[0m\u001b[0;34m\u001b[0m\u001b[0;34m\u001b[0m\u001b[0m\n\u001b[0;32m-> 6130\u001b[0;31m                 \u001b[0;32mraise\u001b[0m \u001b[0mKeyError\u001b[0m\u001b[0;34m(\u001b[0m\u001b[0;34mf\"None of [{key}] are in the [{axis_name}]\"\u001b[0m\u001b[0;34m)\u001b[0m\u001b[0;34m\u001b[0m\u001b[0;34m\u001b[0m\u001b[0m\n\u001b[0m\u001b[1;32m   6131\u001b[0m \u001b[0;34m\u001b[0m\u001b[0m\n\u001b[1;32m   6132\u001b[0m             \u001b[0mnot_found\u001b[0m \u001b[0;34m=\u001b[0m \u001b[0mlist\u001b[0m\u001b[0;34m(\u001b[0m\u001b[0mensure_index\u001b[0m\u001b[0;34m(\u001b[0m\u001b[0mkey\u001b[0m\u001b[0;34m)\u001b[0m\u001b[0;34m[\u001b[0m\u001b[0mmissing_mask\u001b[0m\u001b[0;34m.\u001b[0m\u001b[0mnonzero\u001b[0m\u001b[0;34m(\u001b[0m\u001b[0;34m)\u001b[0m\u001b[0;34m[\u001b[0m\u001b[0;36m0\u001b[0m\u001b[0;34m]\u001b[0m\u001b[0;34m]\u001b[0m\u001b[0;34m.\u001b[0m\u001b[0munique\u001b[0m\u001b[0;34m(\u001b[0m\u001b[0;34m)\u001b[0m\u001b[0;34m)\u001b[0m\u001b[0;34m\u001b[0m\u001b[0;34m\u001b[0m\u001b[0m\n",
            "\u001b[0;31mKeyError\u001b[0m: \"None of [Int64Index([0], dtype='int64')] are in the [columns]\""
          ]
        }
      ]
    },
    {
      "cell_type": "markdown",
      "source": [
        "# **Kmeans** applying"
      ],
      "metadata": {
        "id": "jAO4-kMUzXhI"
      }
    },
    {
      "cell_type": "markdown",
      "source": [
        "Euclidian distance function"
      ],
      "metadata": {
        "id": "bicCM3tzzjMF"
      }
    },
    {
      "cell_type": "code",
      "source": [
        "def distance(p1,p2):\n",
        "\n",
        "\n",
        "  return np.dot((p1-p2).transpose(),(p1-p2))"
      ],
      "metadata": {
        "id": "PRro_DPdPNbW"
      },
      "execution_count": null,
      "outputs": []
    },
    {
      "cell_type": "markdown",
      "source": [
        "kmeans code"
      ],
      "metadata": {
        "id": "Nc5QShVxzvih"
      }
    },
    {
      "cell_type": "code",
      "source": [
        "\n",
        "mean=[]\n",
        "indexing=[]\n",
        "for i in range(0,k):\n",
        "  j=random.randint(0, data_size)\n",
        "\n",
        "  mean.append((Q.loc[[j]]).values.transpose())\n",
        "A = np.zeros([data_size, k], dtype = int)\n",
        "for p in range(0,data_size):\n",
        "  point=(Q.loc[[p]]).values.transpose()\n",
        "  d=[]\n",
        "  for i in range(0,k):\n",
        "    d.append(distance(point,mean[i]).tolist())\n",
        "  ind=d.index(min(d))\n",
        "  indexing.append(ind)\n",
        "  A[p][ind]=1\n",
        "\n",
        "\n",
        "flag=True\n",
        "\n",
        "while flag:\n",
        "  A_new = np.zeros([data_size, k], dtype = int)\n",
        "  for i in range(0,k):\n",
        "    n=0\n",
        "    for p in range(0,data_size):\n",
        "      mean[i]+=A[p][i]*(Q.loc[[p]]).values.transpose()\n",
        "      n+=A[p][i]\n",
        "    mean[i]=mean[i]/n\n",
        "\n",
        "  for p in range(0,data_size):\n",
        "    point=(Q.loc[[p]]).values.transpose()\n",
        "    d=[]\n",
        "    for i in range(0,k):\n",
        "      d.append(distance(point,mean[i]).tolist())\n",
        "    ind=d.index(min(d))\n",
        "    indexing[p]=ind\n",
        "    A_new[p][ind]=1\n",
        "  if np.array_equal(A, A_new):\n",
        "    flag=False\n",
        "  A=A_new\n",
        "print(len(indexing))\n",
        "\n",
        "\n"
      ],
      "metadata": {
        "colab": {
          "base_uri": "https://localhost:8080/"
        },
        "id": "pGkTt1YSPO6r",
        "outputId": "8611fc42-79d5-41d3-e12d-a026becdeb14"
      },
      "execution_count": null,
      "outputs": [
        {
          "output_type": "stream",
          "name": "stdout",
          "text": [
            "1500\n"
          ]
        }
      ]
    },
    {
      "cell_type": "markdown",
      "source": [
        "**Indexing[]** array contain which point belong to which cluster"
      ],
      "metadata": {
        "id": "XZpuhLXLz7Um"
      }
    },
    {
      "cell_type": "code",
      "source": [
        "color=[\"red\",\"blue\",\"yellow\"]\n",
        "\n",
        "for p in range(0,data_size):\n",
        "  plt.scatter(x_old[p],y_old[p],c=color[indexing[p]])\n",
        "\n",
        "\n",
        "\n",
        "\n",
        "\n",
        "plt.show\n"
      ],
      "metadata": {
        "colab": {
          "base_uri": "https://localhost:8080/",
          "height": 282
        },
        "id": "HBFyi7W_PTpn",
        "outputId": "f2220d21-267a-465f-ea29-a2223d89c9a9"
      },
      "execution_count": null,
      "outputs": [
        {
          "output_type": "execute_result",
          "data": {
            "text/plain": [
              "<function matplotlib.pyplot.show(*args, **kw)>"
            ]
          },
          "metadata": {},
          "execution_count": 28
        },
        {
          "output_type": "display_data",
          "data": {
            "text/plain": [
              "<Figure size 432x288 with 1 Axes>"
            ],
            "image/png": "[encoded data removed]"
          },
          "metadata": {
            "needs_background": "light"
          }
        }
      ]
    }
  ]
}